{
  "nbformat": 4,
  "nbformat_minor": 0,
  "metadata": {
    "colab": {
      "provenance": [],
      "name": "FA24-BBD-080.ipynb",
      "authorship_tag": "ABX9TyOjjcBVeIAVG0rsjSOA6GLa",
      "include_colab_link": true
    },
    "kernelspec": {
      "name": "python3",
      "display_name": "Python 3"
    },
    "language_info": {
      "name": "python"
    }
  },
  "cells": [
    {
      "cell_type": "markdown",
      "metadata": {
        "id": "view-in-github",
        "colab_type": "text"
      },
      "source": [
        "<a href=\"https://colab.research.google.com/github/zenshaheryar/Practice-2nd-semester/blob/main/FA24_BBD_080.ipynb\" target=\"_parent\"><img src=\"https://colab.research.google.com/assets/colab-badge.svg\" alt=\"Open In Colab\"/></a>"
      ]
    },
    {
      "cell_type": "code",
      "source": [],
      "metadata": {
        "id": "pxJ6z3HWFXND"
      },
      "execution_count": null,
      "outputs": []
    },
    {
      "cell_type": "code",
      "execution_count": null,
      "metadata": {
        "id": "9m9W3xXf_ob1"
      },
      "outputs": [],
      "source": [
        "import pandas as pd\n",
        "import matplotlib.pyplot as plt"
      ]
    },
    {
      "cell_type": "code",
      "source": [
        "df = pd.read_csv('melb_data.csv')"
      ],
      "metadata": {
        "id": "5TN5NQXkAxHB"
      },
      "execution_count": null,
      "outputs": []
    },
    {
      "cell_type": "code",
      "source": [
        "missing_person = df.isna().sum() / len(df) * 100\n",
        "df_cleaned = missing_person[missing_person > 20].index\n",
        "df_cleaned = df.dropna()\n",
        "print(df_cleaned.info())\n",
        "\n",
        "#Fill missing values in numerical columns with the median\n",
        "if 'Number' in df.columns:\n",
        "    df[\"Number\"].fillna(df[\"Number\"].median(), inplace=True)\n",
        "    print(\"Filled missing values in numerical columns with median.\")\n",
        "else:\n",
        "    print(\"Column 'Number' not found in DataFrame.\")\n",
        "\n",
        "#Fill missing values in categorical columns with the mode\n",
        "if 'Category' in df.columns:\n",
        "    df[\"Category\"].fillna(3, inplace=True)\n",
        "    print(\"Filled missing values in categorical columns with mode\")\n",
        "else:\n",
        "    print(\"Column 'Category' not found in DataFrame.\")\n",
        "\n",
        "print(df.head())"
      ],
      "metadata": {
        "colab": {
          "base_uri": "https://localhost:8080/"
        },
        "id": "r6ZwBgntAzLC",
        "outputId": "2cb159ac-40b0-45bb-ec80-ac17004bfb68"
      },
      "execution_count": null,
      "outputs": [
        {
          "output_type": "stream",
          "name": "stdout",
          "text": [
            "<class 'pandas.core.frame.DataFrame'>\n",
            "Index: 6196 entries, 1 to 12212\n",
            "Data columns (total 21 columns):\n",
            " #   Column         Non-Null Count  Dtype  \n",
            "---  ------         --------------  -----  \n",
            " 0   Suburb         6196 non-null   object \n",
            " 1   Address        6196 non-null   object \n",
            " 2   Rooms          6196 non-null   int64  \n",
            " 3   Type           6196 non-null   object \n",
            " 4   Price          6196 non-null   float64\n",
            " 5   Method         6196 non-null   object \n",
            " 6   SellerG        6196 non-null   object \n",
            " 7   Date           6196 non-null   object \n",
            " 8   Distance       6196 non-null   float64\n",
            " 9   Postcode       6196 non-null   float64\n",
            " 10  Bedroom2       6196 non-null   float64\n",
            " 11  Bathroom       6196 non-null   float64\n",
            " 12  Car            6196 non-null   float64\n",
            " 13  Landsize       6196 non-null   float64\n",
            " 14  BuildingArea   6196 non-null   float64\n",
            " 15  YearBuilt      6196 non-null   float64\n",
            " 16  CouncilArea    6196 non-null   object \n",
            " 17  Lattitude      6196 non-null   float64\n",
            " 18  Longtitude     6196 non-null   float64\n",
            " 19  Regionname     6196 non-null   object \n",
            " 20  Propertycount  6196 non-null   float64\n",
            "dtypes: float64(12), int64(1), object(8)\n",
            "memory usage: 1.0+ MB\n",
            "None\n",
            "Column 'Number' not found in DataFrame.\n",
            "Column 'Category' not found in DataFrame.\n",
            "       Suburb           Address  Rooms Type      Price Method SellerG  \\\n",
            "0  Abbotsford      85 Turner St      2    h  1480000.0      S  Biggin   \n",
            "1  Abbotsford   25 Bloomburg St      2    h  1035000.0      S  Biggin   \n",
            "2  Abbotsford      5 Charles St      3    h  1465000.0     SP  Biggin   \n",
            "3  Abbotsford  40 Federation La      3    h   850000.0     PI  Biggin   \n",
            "4  Abbotsford       55a Park St      4    h  1600000.0     VB  Nelson   \n",
            "\n",
            "        Date  Distance  Postcode  ...  Bathroom  Car  Landsize  BuildingArea  \\\n",
            "0  3/12/2016       2.5    3067.0  ...       1.0  1.0     202.0           NaN   \n",
            "1  4/02/2016       2.5    3067.0  ...       1.0  0.0     156.0          79.0   \n",
            "2  4/03/2017       2.5    3067.0  ...       2.0  0.0     134.0         150.0   \n",
            "3  4/03/2017       2.5    3067.0  ...       2.0  1.0      94.0           NaN   \n",
            "4  4/06/2016       2.5    3067.0  ...       1.0  2.0     120.0         142.0   \n",
            "\n",
            "   YearBuilt  CouncilArea Lattitude  Longtitude             Regionname  \\\n",
            "0        NaN        Yarra  -37.7996    144.9984  Northern Metropolitan   \n",
            "1     1900.0        Yarra  -37.8079    144.9934  Northern Metropolitan   \n",
            "2     1900.0        Yarra  -37.8093    144.9944  Northern Metropolitan   \n",
            "3        NaN        Yarra  -37.7969    144.9969  Northern Metropolitan   \n",
            "4     2014.0        Yarra  -37.8072    144.9941  Northern Metropolitan   \n",
            "\n",
            "  Propertycount  \n",
            "0        4019.0  \n",
            "1        4019.0  \n",
            "2        4019.0  \n",
            "3        4019.0  \n",
            "4        4019.0  \n",
            "\n",
            "[5 rows x 21 columns]\n"
          ]
        }
      ]
    },
    {
      "cell_type": "code",
      "source": [
        "#Retrieve all properties located in ;Richmond; with a price greater than $1,000,000.\n",
        "richmond_properties = df[(df['Suburb'] == 'Richmond') & (df['Price'] > 1000000)]\n",
        "print(richmond_properties.head())\n",
        "\n",
        "# Extract only the;Price;, ;Suburb;, and ;BuildingArea; columns for properties  where the land size is above 500 square meters.\n",
        "df_filtered = df_cleaned.loc[df_cleaned['Landsize'] > 500, ['Price', 'Suburb']]\n",
        "print(df_filtered.head())\n",
        "\n",
        "#Find the top 5 most expensive houses in the dataset using sorting.\n",
        "df_sorted = df_cleaned.sort_values(by='Price', ascending=False)\n",
        "print(df_sorted.head(5))"
      ],
      "metadata": {
        "colab": {
          "base_uri": "https://localhost:8080/"
        },
        "id": "FWzPQRLOA7Q_",
        "outputId": "c4990c34-a513-42cf-a5e0-17a72367a03a"
      },
      "execution_count": null,
      "outputs": [
        {
          "output_type": "stream",
          "name": "stdout",
          "text": [
            "        Suburb          Address  Rooms Type      Price Method        SellerG  \\\n",
            "5257  Richmond       81 Erin St      3    h  1260000.0      S         Biggin   \n",
            "5258  Richmond  52 Lyndhurst St      3    t  1236000.0      S         Jellis   \n",
            "5263  Richmond        7 Bank St      3    h  1600000.0      S  hockingstuart   \n",
            "5264  Richmond      29 Bowen St      3    h  2180000.0     PI           Blue   \n",
            "5266  Richmond      131 Lord St      4    h  3335000.0      S         Jellis   \n",
            "\n",
            "           Date  Distance  Postcode  ...  Bathroom  Car  Landsize  \\\n",
            "5257  3/09/2016       2.6    3121.0  ...       1.0  0.0     203.0   \n",
            "5258  3/09/2016       2.6    3121.0  ...       2.0  1.0     675.0   \n",
            "5263  3/12/2016       2.6    3121.0  ...       2.0  1.0     115.0   \n",
            "5264  3/12/2016       2.6    3121.0  ...       2.0  2.0     345.0   \n",
            "5266  3/12/2016       2.6    3121.0  ...       2.0  2.0     319.0   \n",
            "\n",
            "      BuildingArea  YearBuilt  CouncilArea Lattitude  Longtitude  \\\n",
            "5257          81.0     1900.0        Yarra  -37.8166    144.9945   \n",
            "5258           NaN        NaN        Yarra  -37.8206    145.0003   \n",
            "5263           NaN        NaN        Yarra  -37.8163    144.9984   \n",
            "5264           NaN        NaN        Yarra  -37.8159    144.9940   \n",
            "5266           NaN     1893.0        Yarra  -37.8244    145.0044   \n",
            "\n",
            "                 Regionname Propertycount  \n",
            "5257  Northern Metropolitan       14949.0  \n",
            "5258  Northern Metropolitan       14949.0  \n",
            "5263  Northern Metropolitan       14949.0  \n",
            "5264  Northern Metropolitan       14949.0  \n",
            "5266  Northern Metropolitan       14949.0  \n",
            "\n",
            "[5 rows x 21 columns]\n",
            "        Price        Suburb\n",
            "20  1330000.0    Abbotsford\n",
            "47   725000.0  Airport West\n",
            "51   895000.0  Airport West\n",
            "57   830000.0  Airport West\n",
            "60   675000.0  Airport West\n",
            "           Suburb         Address  Rooms Type      Price Method       SellerG  \\\n",
            "12094    Mulgrave     35 Bevis St      3    h  9000000.0     PI          Hall   \n",
            "7692   Canterbury  49 Mangarra Rd      5    h  8000000.0     VB     Sotheby's   \n",
            "9575     Hawthorn    49 Lisson Gr      4    h  7650000.0      S  Abercromby's   \n",
            "3616          Kew     15 Barry St      6    h  6500000.0      S        Jellis   \n",
            "6372       Toorak    17 Albany Rd      3    h  6250000.0      S           Kay   \n",
            "\n",
            "             Date  Distance  Postcode  ...  Bathroom  Car  Landsize  \\\n",
            "12094  29/07/2017      18.8    3170.0  ...       1.0  1.0     744.0   \n",
            "7692   13/05/2017       9.0    3126.0  ...       5.0  4.0    2079.0   \n",
            "9575   17/06/2017       5.3    3122.0  ...       2.0  4.0    1690.0   \n",
            "3616   13/08/2016       5.6    3101.0  ...       6.0  3.0    1334.0   \n",
            "6372   15/10/2016       4.6    3142.0  ...       3.0  2.0     564.0   \n",
            "\n",
            "       BuildingArea  YearBuilt  CouncilArea Lattitude  Longtitude  \\\n",
            "12094         117.0     1960.0       Monash -37.93168   145.16126   \n",
            "7692          464.3     1880.0   Boroondara -37.81790   145.06940   \n",
            "9575          284.0     1863.0   Boroondara -37.82652   145.03052   \n",
            "3616          365.0     1890.0   Boroondara -37.80290   145.02670   \n",
            "6372          342.0     2000.0  Stonnington -37.84860   145.02440   \n",
            "\n",
            "                       Regionname Propertycount  \n",
            "12094  South-Eastern Metropolitan        7113.0  \n",
            "7692        Southern Metropolitan        3265.0  \n",
            "9575        Southern Metropolitan       11308.0  \n",
            "3616        Southern Metropolitan       10331.0  \n",
            "6372        Southern Metropolitan        7217.0  \n",
            "\n",
            "[5 rows x 21 columns]\n"
          ]
        }
      ]
    },
    {
      "cell_type": "code",
      "source": [
        "#Create a new column that calculates the price per room (Price / Rooms).\n",
        "df_cleaned['Price_Per_Room'] = df_cleaned['Price'] / df_cleaned['Rooms']\n",
        "print(df_cleaned.head())\n",
        "\n",
        "#Convert the ;Date; column (if available) into a proper datetime format.\n",
        "df_cleaned[\"Date\"] = pd.to_datetime(df_cleaned[\"Date\"], dayfirst=True)\n",
        "print(df_cleaned.head())\n",
        "\n",
        "#Extract the year of sale from the date and create a new column Year_Sold.\n",
        "df_cleaned['Year_Sold'] = df_cleaned['Date'].dt.year\n",
        "print(df_cleaned.head())"
      ],
      "metadata": {
        "colab": {
          "base_uri": "https://localhost:8080/"
        },
        "id": "qRg5g9IRA_0Z",
        "outputId": "1033a9b0-0216-47be-8471-d6392ef73b5d"
      },
      "execution_count": null,
      "outputs": [
        {
          "output_type": "stream",
          "name": "stdout",
          "text": [
            "       Suburb          Address  Rooms Type      Price Method SellerG  \\\n",
            "1  Abbotsford  25 Bloomburg St      2    h  1035000.0      S  Biggin   \n",
            "2  Abbotsford     5 Charles St      3    h  1465000.0     SP  Biggin   \n",
            "4  Abbotsford      55a Park St      4    h  1600000.0     VB  Nelson   \n",
            "6  Abbotsford     124 Yarra St      3    h  1876000.0      S  Nelson   \n",
            "7  Abbotsford    98 Charles St      2    h  1636000.0      S  Nelson   \n",
            "\n",
            "        Date  Distance  Postcode  ...  Car  Landsize  BuildingArea  YearBuilt  \\\n",
            "1  4/02/2016       2.5    3067.0  ...  0.0     156.0          79.0     1900.0   \n",
            "2  4/03/2017       2.5    3067.0  ...  0.0     134.0         150.0     1900.0   \n",
            "4  4/06/2016       2.5    3067.0  ...  2.0     120.0         142.0     2014.0   \n",
            "6  7/05/2016       2.5    3067.0  ...  0.0     245.0         210.0     1910.0   \n",
            "7  8/10/2016       2.5    3067.0  ...  2.0     256.0         107.0     1890.0   \n",
            "\n",
            "   CouncilArea  Lattitude Longtitude             Regionname  Propertycount  \\\n",
            "1        Yarra   -37.8079   144.9934  Northern Metropolitan         4019.0   \n",
            "2        Yarra   -37.8093   144.9944  Northern Metropolitan         4019.0   \n",
            "4        Yarra   -37.8072   144.9941  Northern Metropolitan         4019.0   \n",
            "6        Yarra   -37.8024   144.9993  Northern Metropolitan         4019.0   \n",
            "7        Yarra   -37.8060   144.9954  Northern Metropolitan         4019.0   \n",
            "\n",
            "  Price_Per_Room  \n",
            "1  517500.000000  \n",
            "2  488333.333333  \n",
            "4  400000.000000  \n",
            "6  625333.333333  \n",
            "7  818000.000000  \n",
            "\n",
            "[5 rows x 22 columns]\n",
            "       Suburb          Address  Rooms Type      Price Method SellerG  \\\n",
            "1  Abbotsford  25 Bloomburg St      2    h  1035000.0      S  Biggin   \n",
            "2  Abbotsford     5 Charles St      3    h  1465000.0     SP  Biggin   \n",
            "4  Abbotsford      55a Park St      4    h  1600000.0     VB  Nelson   \n",
            "6  Abbotsford     124 Yarra St      3    h  1876000.0      S  Nelson   \n",
            "7  Abbotsford    98 Charles St      2    h  1636000.0      S  Nelson   \n",
            "\n",
            "        Date  Distance  Postcode  ...  Car  Landsize  BuildingArea  YearBuilt  \\\n",
            "1 2016-02-04       2.5    3067.0  ...  0.0     156.0          79.0     1900.0   \n",
            "2 2017-03-04       2.5    3067.0  ...  0.0     134.0         150.0     1900.0   \n",
            "4 2016-06-04       2.5    3067.0  ...  2.0     120.0         142.0     2014.0   \n",
            "6 2016-05-07       2.5    3067.0  ...  0.0     245.0         210.0     1910.0   \n",
            "7 2016-10-08       2.5    3067.0  ...  2.0     256.0         107.0     1890.0   \n",
            "\n",
            "   CouncilArea  Lattitude Longtitude             Regionname  Propertycount  \\\n",
            "1        Yarra   -37.8079   144.9934  Northern Metropolitan         4019.0   \n",
            "2        Yarra   -37.8093   144.9944  Northern Metropolitan         4019.0   \n",
            "4        Yarra   -37.8072   144.9941  Northern Metropolitan         4019.0   \n",
            "6        Yarra   -37.8024   144.9993  Northern Metropolitan         4019.0   \n",
            "7        Yarra   -37.8060   144.9954  Northern Metropolitan         4019.0   \n",
            "\n",
            "  Price_Per_Room  \n",
            "1  517500.000000  \n",
            "2  488333.333333  \n",
            "4  400000.000000  \n",
            "6  625333.333333  \n",
            "7  818000.000000  \n",
            "\n",
            "[5 rows x 22 columns]\n",
            "       Suburb          Address  Rooms Type      Price Method SellerG  \\\n",
            "1  Abbotsford  25 Bloomburg St      2    h  1035000.0      S  Biggin   \n",
            "2  Abbotsford     5 Charles St      3    h  1465000.0     SP  Biggin   \n",
            "4  Abbotsford      55a Park St      4    h  1600000.0     VB  Nelson   \n",
            "6  Abbotsford     124 Yarra St      3    h  1876000.0      S  Nelson   \n",
            "7  Abbotsford    98 Charles St      2    h  1636000.0      S  Nelson   \n",
            "\n",
            "        Date  Distance  Postcode  ...  Landsize  BuildingArea  YearBuilt  \\\n",
            "1 2016-02-04       2.5    3067.0  ...     156.0          79.0     1900.0   \n",
            "2 2017-03-04       2.5    3067.0  ...     134.0         150.0     1900.0   \n",
            "4 2016-06-04       2.5    3067.0  ...     120.0         142.0     2014.0   \n",
            "6 2016-05-07       2.5    3067.0  ...     245.0         210.0     1910.0   \n",
            "7 2016-10-08       2.5    3067.0  ...     256.0         107.0     1890.0   \n",
            "\n",
            "   CouncilArea  Lattitude  Longtitude             Regionname  Propertycount  \\\n",
            "1        Yarra   -37.8079    144.9934  Northern Metropolitan         4019.0   \n",
            "2        Yarra   -37.8093    144.9944  Northern Metropolitan         4019.0   \n",
            "4        Yarra   -37.8072    144.9941  Northern Metropolitan         4019.0   \n",
            "6        Yarra   -37.8024    144.9993  Northern Metropolitan         4019.0   \n",
            "7        Yarra   -37.8060    144.9954  Northern Metropolitan         4019.0   \n",
            "\n",
            "   Price_Per_Room Year_Sold  \n",
            "1   517500.000000      2016  \n",
            "2   488333.333333      2017  \n",
            "4   400000.000000      2016  \n",
            "6   625333.333333      2016  \n",
            "7   818000.000000      2016  \n",
            "\n",
            "[5 rows x 23 columns]\n"
          ]
        },
        {
          "output_type": "stream",
          "name": "stderr",
          "text": [
            "<ipython-input-5-d7557140cd15>:3: SettingWithCopyWarning: \n",
            "A value is trying to be set on a copy of a slice from a DataFrame.\n",
            "Try using .loc[row_indexer,col_indexer] = value instead\n",
            "\n",
            "See the caveats in the documentation: https://pandas.pydata.org/pandas-docs/stable/user_guide/indexing.html#returning-a-view-versus-a-copy\n",
            "  df_cleaned['Price_Per_Room'] = df_cleaned['Price'] / df_cleaned['Rooms']\n",
            "<ipython-input-5-d7557140cd15>:7: SettingWithCopyWarning: \n",
            "A value is trying to be set on a copy of a slice from a DataFrame.\n",
            "Try using .loc[row_indexer,col_indexer] = value instead\n",
            "\n",
            "See the caveats in the documentation: https://pandas.pydata.org/pandas-docs/stable/user_guide/indexing.html#returning-a-view-versus-a-copy\n",
            "  df_cleaned[\"Date\"] = pd.to_datetime(df_cleaned[\"Date\"], dayfirst=True)\n",
            "<ipython-input-5-d7557140cd15>:11: SettingWithCopyWarning: \n",
            "A value is trying to be set on a copy of a slice from a DataFrame.\n",
            "Try using .loc[row_indexer,col_indexer] = value instead\n",
            "\n",
            "See the caveats in the documentation: https://pandas.pydata.org/pandas-docs/stable/user_guide/indexing.html#returning-a-view-versus-a-copy\n",
            "  df_cleaned['Year_Sold'] = df_cleaned['Date'].dt.year\n"
          ]
        }
      ]
    },
    {
      "cell_type": "code",
      "source": [
        "#Find the average price of properties in each suburb.\n",
        "suburb_avg_price = df.groupby(\"Suburb\")[\"Price\"].mean()\n",
        "print(suburb_avg_price)\n",
        "\n",
        "#Find the total number of properties sold in each suburb.\n",
        "properties_per_suburb = df.groupby(\"Suburb\")['Price'].count()\n",
        "print(properties_per_suburb)\n",
        "\n",
        "#Identify the suburb with the highest average price.\n",
        "highest_avg_price_suburb = suburb_avg_price.idxmax()\n",
        "print(highest_avg_price_suburb)"
      ],
      "metadata": {
        "colab": {
          "base_uri": "https://localhost:8080/"
        },
        "id": "C__3JC_eBEKR",
        "outputId": "f4d8825d-552c-4572-fbdb-b17dc0579446"
      },
      "execution_count": null,
      "outputs": [
        {
          "output_type": "stream",
          "name": "stdout",
          "text": [
            "Suburb\n",
            "Abbotsford      1.060366e+06\n",
            "Aberfeldie      1.277455e+06\n",
            "Airport West    7.566567e+05\n",
            "Albanvale       5.370833e+05\n",
            "Albert Park     1.941355e+06\n",
            "                    ...     \n",
            "Wonga Park      9.000000e+05\n",
            "Wyndham Vale    4.832500e+05\n",
            "Yallambie       8.396875e+05\n",
            "Yarra Glen      6.200000e+05\n",
            "Yarraville      9.886155e+05\n",
            "Name: Price, Length: 314, dtype: float64\n",
            "Suburb\n",
            "Abbotsford       56\n",
            "Aberfeldie       44\n",
            "Airport West     67\n",
            "Albanvale         6\n",
            "Albert Park      69\n",
            "               ... \n",
            "Wonga Park        1\n",
            "Wyndham Vale      4\n",
            "Yallambie        24\n",
            "Yarra Glen        1\n",
            "Yarraville      164\n",
            "Name: Price, Length: 314, dtype: int64\n",
            "Kooyong\n"
          ]
        }
      ]
    },
    {
      "cell_type": "code",
      "source": [
        "#Save the cleaned dataset to a new CSV file.\n",
        "df.to_csv(\"cleaned_melb_data.csv\", index=False)\n",
        "\n",
        "# Generate a basic summary report using Pandas profiling.\n",
        "from pandas_profiling import ProfileReport\n",
        "\n",
        "profile = ProfileReport(df)\n",
        "profile.to_file(\"report.html\")"
      ],
      "metadata": {
        "id": "s-uhHvkJEJMD"
      },
      "execution_count": null,
      "outputs": []
    }
  ]
}